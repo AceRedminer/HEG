{
 "cells": [
  {
   "cell_type": "markdown",
   "id": "10767c8b-d2b4-4d4f-bad2-1c4b1365054e",
   "metadata": {},
   "source": [
    "# Bases des télécommunications 1\n",
    "\n",
    "Étudiants: \n",
    "\n",
    "Nom du groupe :"
   ]
  },
  {
   "cell_type": "markdown",
   "id": "8aa99bbb",
   "metadata": {},
   "source": [
    "## Introduction\n",
    "\n",
    "Le but de ce laboratoire est de mettre en pratique les concepts vus en classe de Bases des\n",
    "Télécommunications. On travaillera ainsi sur la détection d'erreur sur un fichier texte.\n",
    "\n",
    "- Le rendu du **jupyter notebook** doit se faire sur __cyberlearn__ sous le nom de fichier \"prenom_nom_groupe\" \n",
    "- Le fichier texte utilisé ici doit être encodé en UTF-8 (sans BOM), vous pouvez le vérifier avec Notepad++ par exemple.\n",
    "- Exemple de code python 3 pour ouvrir en lecture un fichier texte en UTF-8 : __*open(INPUT, \"r\", encoding=\"UTF-8\")*__\n",
    "\n",
    "## I. Parité simple\n",
    "\n",
    "a) Réalisez ci-dessous une **fonction** qui insère le bit de parité dans un charactère ascii. La fonction doit pouvoir calculer la parité pair ou impair\n",
    "\n",
    "<table style=\" margin-left: auto;margin-right: auto;\">\n",
    "    <tr>\n",
    "        <td>2<sup>7</sup></td>\n",
    "        <td>2<sup>6</sup></td>\n",
    "        <td>2<sup>5</sup></td>\n",
    "        <td>2<sup>4</sup></td>\n",
    "        <td>2<sup>3</sup></td>\n",
    "        <td>2<sup>2</sup></td>\n",
    "        <td>2<sup>1</sup></td>\n",
    "        <td>2<sup>0</sup></td>\n",
    "    </tr>\n",
    "    <tr>\n",
    "        <td>1</td>\n",
    "        <td>0</td>\n",
    "        <td>0</td>\n",
    "        <td>0</td>\n",
    "        <td>1</td>\n",
    "        <td>1</td>\n",
    "        <td>0</td>\n",
    "        <td>1</td>\n",
    "    </tr>        \n",
    "    <tr>\n",
    "        <td colspan=\"8\" style=\" text-align: right;\">↑ <br/> bit de parité</td>\n",
    "    </tr>        \n",
    "</table>"
   ]
  },
  {
   "cell_type": "markdown",
   "id": "3d4b0507",
   "metadata": {},
   "source": [
    "Voici deux exemples qui vont permettre de comprendre comment fonctionne la création du bit de parité pair. \n",
    "\n",
    "**Indice: Sur combien de bit, un charactère ascii est-il codé  ?**\n",
    "<table style=\" margin-left: auto;margin-right: auto;\">\n",
    "    <tr>\n",
    "    <td colspan=\"8\" style=\"text-align:center\" >charactère '*'</td>\n",
    "    </tr>\n",
    "    <tr>\n",
    "        <td>2<sup>7</sup></td>\n",
    "        <td>2<sup>6</sup></td>\n",
    "        <td>2<sup>5</sup></td>\n",
    "        <td>2<sup>4</sup></td>\n",
    "        <td>2<sup>3</sup></td>\n",
    "        <td>2<sup>2</sup></td>\n",
    "        <td>2<sup>1</sup></td>\n",
    "        <td>2<sup>0</sup></td>\n",
    "    </tr>\n",
    "    <tr>\n",
    "        <td>0</td>\n",
    "        <td>1</td>\n",
    "        <td>0</td>\n",
    "        <td>1</td>\n",
    "        <td>0</td>\n",
    "        <td>1</td>\n",
    "        <td>0</td>\n",
    "        <td>1</td>\n",
    "    </tr>        \n",
    "    <tr>\n",
    "        <td colspan=\"8\" style=\" text-align: right;\">↑ <br/> bit de parité</td>\n",
    "    </tr>        \n",
    "</table>\n",
    "\n",
    "</br>\n",
    "<table style=\" margin-left: auto;margin-right: auto;\">\n",
    "    <tr>\n",
    "    <td colspan=\"8\" style=\"text-align:center\" >charactère '('</td>\n",
    "    </tr>\n",
    "    <tr>\n",
    "        <td>2<sup>7</sup></td>\n",
    "        <td>2<sup>6</sup></td>\n",
    "        <td>2<sup>5</sup></td>\n",
    "        <td>2<sup>4</sup></td>\n",
    "        <td>2<sup>3</sup></td>\n",
    "        <td>2<sup>2</sup></td>\n",
    "        <td>2<sup>1</sup></td>\n",
    "        <td>2<sup>0</sup></td>\n",
    "    </tr>\n",
    "    <tr>\n",
    "        <td>0</td>\n",
    "        <td>1</td>\n",
    "        <td>0</td>\n",
    "        <td>1</td>\n",
    "        <td>0</td>\n",
    "        <td>0</td>\n",
    "        <td>0</td>\n",
    "        <td>0</td>\n",
    "    </tr>        \n",
    "    <tr>\n",
    "        <td colspan=\"8\" style=\" text-align: right;\">↑ <br/> bit de parité</td>\n",
    "    </tr>        \n",
    "</table>"
   ]
  },
  {
   "cell_type": "code",
   "execution_count": 19,
   "id": "898a3983",
   "metadata": {},
   "outputs": [],
   "source": [
    "def generate_parity_bit(char, even=0):\n",
    "    binary = format(char, '07b')\n",
    "    result = 0\n",
    "    parity = 0\n",
    "\n",
    "    for i in range(0, len(binary)):\n",
    "        result += int(binary[i])\n",
    "\n",
    "    if even:\n",
    "        if (result % 2 == 1):\n",
    "            parity = 0\n",
    "        else:\n",
    "            parity = 1\n",
    "    else:\n",
    "        if (result % 2 == 0):\n",
    "            parity = 0\n",
    "        else:\n",
    "            parity = 1\n",
    "            \n",
    "    return parity"
   ]
  },
  {
   "cell_type": "markdown",
   "id": "808033e0",
   "metadata": {},
   "source": [
    "b) Réalisez ci-dessous un programme qui affiche le nombre total d'erreur dans le fichier text (**input_with_error.bin**) à l'aide du bit de parité."
   ]
  },
  {
   "cell_type": "code",
   "execution_count": 26,
   "id": "088e58e1",
   "metadata": {},
   "outputs": [
    {
     "name": "stdout",
     "output_type": "stream",
     "text": [
      "42123\n"
     ]
    }
   ],
   "source": [
    "content = \"\"\n",
    "nbrErrors = 0\n",
    "\n",
    "with open(\"input_with_errors.bin\",\"rb\") as f:\n",
    "    content = f.read()\n",
    "\n",
    "for i, b in enumerate(content):\n",
    "\n",
    "    b_parity = b & 0x01\n",
    "    us_parity = generate_parity_bit(b >> 1)\n",
    "\n",
    "    if (b_parity != us_parity):\n",
    "        nbrErrors += 1\n",
    "print(nbrErrors)"
   ]
  },
  {
   "cell_type": "markdown",
   "id": "f0976e67",
   "metadata": {},
   "source": [
    "c) Réaliser ci-dessous une fonction permettant:\n",
    " \n",
    " 1. de calculer le bit de parité du charactère\n",
    " 2. d'altérer le charactère _**dans toutes les positions possibles selon la table ASCII**_ (Conseil: utilisé la fonction **[randrange()](https://docs.python.org/3/library/random.html#random.randrange)** )\n",
    " 3. ajouter le bit de parité au charactère altéré."
   ]
  },
  {
   "cell_type": "code",
   "execution_count": 21,
   "id": "04cf5622",
   "metadata": {},
   "outputs": [],
   "source": [
    "import random\n",
    "def edit_char(char):\n",
    "    parity = generate_parity_bit(char)\n",
    "    binary = format(char, '08b')\n",
    "\n",
    "    modified_char = ''\n",
    "\n",
    "    randomIdx = random.randrange(0, len(binary), 1)\n",
    "\n",
    "    modified_char = '1' if binary[randomIdx] == '0' else '0'\n",
    "\n",
    "    modified_binary = binary[:randomIdx] + modified_char + binary[randomIdx + 1:] + str(parity)\n",
    "    print(modified_binary)\n",
    "    return modified_binary\n",
    "    "
   ]
  },
  {
   "cell_type": "markdown",
   "id": "6408a420",
   "metadata": {},
   "source": [
    "d) Réaliser ci-dessous un programme permettant d'ajouter le bit de parité selon la machine à états suivant au fichier **\"input.txt\"** selon le schéma suivant et sauvegarder le résultat **\"output.bin\"**:\n",
    "\n",
    "![state_machine](state_machine.jpg)\n",
    "\n",
    "La **graine** utilisé pour créer le fichier **input_with_error.bin** est le numéro **43**."
   ]
  },
  {
   "cell_type": "code",
   "execution_count": 22,
   "id": "737da068",
   "metadata": {},
   "outputs": [],
   "source": [
    "import random\n",
    "SEED = 43\n",
    "STATE_ERROR = False\n",
    "AVERAGE = 1 - (1e-6)\n",
    "random.seed(43)"
   ]
  },
  {
   "cell_type": "code",
   "execution_count": 23,
   "id": "d36d70a7",
   "metadata": {},
   "outputs": [],
   "source": [
    "file_content = \"\"\n",
    "with open(\"input.txt\",\"rb\") as f:\n",
    "    file_content = f.read()"
   ]
  },
  {
   "cell_type": "code",
   "execution_count": 24,
   "id": "754f1895",
   "metadata": {},
   "outputs": [
    {
     "name": "stdout",
     "output_type": "stream",
     "text": [
      "False\n"
     ]
    },
    {
     "ename": "ValueError",
     "evalue": "invalid literal for int() with base 2: ''",
     "output_type": "error",
     "traceback": [
      "\u001b[0;31m---------------------------------------------------------------------------\u001b[0m",
      "\u001b[0;31mValueError\u001b[0m                                Traceback (most recent call last)",
      "Cell \u001b[0;32mIn[24], line 25\u001b[0m\n\u001b[1;32m     23\u001b[0m \u001b[38;5;66;03m# Write the bytes in the file\u001b[39;00m\n\u001b[1;32m     24\u001b[0m \u001b[38;5;28;01mfor\u001b[39;00m byte \u001b[38;5;129;01min\u001b[39;00m file_content:\n\u001b[0;32m---> 25\u001b[0m     erroneous_byte \u001b[38;5;241m=\u001b[39m \u001b[43mgenerate_errors\u001b[49m\u001b[43m(\u001b[49m\u001b[43mbyte\u001b[49m\u001b[43m,\u001b[49m\u001b[43m \u001b[49m\u001b[43mSTATE_ERROR\u001b[49m\u001b[43m)\u001b[49m\n\u001b[1;32m     26\u001b[0m     \u001b[38;5;28mprint\u001b[39m(erroneous_byte)\n\u001b[1;32m     27\u001b[0m     result\u001b[38;5;241m.\u001b[39mappend(erroneous_byte)\n",
      "Cell \u001b[0;32mIn[24], line 21\u001b[0m, in \u001b[0;36mgenerate_errors\u001b[0;34m(char, state_error)\u001b[0m\n\u001b[1;32m     19\u001b[0m     to_return \u001b[38;5;241m=\u001b[39m edit_char(char)\n\u001b[1;32m     20\u001b[0m     nb_error \u001b[38;5;241m+\u001b[39m\u001b[38;5;241m=\u001b[39m \u001b[38;5;241m1\u001b[39m\n\u001b[0;32m---> 21\u001b[0m \u001b[38;5;28;01mreturn\u001b[39;00m \u001b[38;5;28;43mint\u001b[39;49m\u001b[43m(\u001b[49m\u001b[43mto_return\u001b[49m\u001b[43m,\u001b[49m\u001b[43m \u001b[49m\u001b[38;5;241;43m2\u001b[39;49m\u001b[43m)\u001b[49m\n",
      "\u001b[0;31mValueError\u001b[0m: invalid literal for int() with base 2: ''"
     ]
    }
   ],
   "source": [
    "nb_error = 0\n",
    "result = bytearray()\n",
    "to_return = \"\"\n",
    "\n",
    "def generate_errors(char, state_error):\n",
    "    \"\"\"\n",
    "    Generate an error randomly. The state is state_error\n",
    "    \"\"\"\n",
    "    global nb_error # this tells python to use the variable from the global scope\n",
    "    global to_return\n",
    "    # Complete the function from here\n",
    "    rdm = random.random()\n",
    "\n",
    "    if (rdm > AVERAGE):\n",
    "        state_error = False if state_error else True\n",
    "\n",
    "    print(state_error)\n",
    "    if (state_error):\n",
    "        to_return = edit_char(char)\n",
    "        nb_error += 1\n",
    "    return int(to_return, 2)\n",
    "\n",
    "# Write the bytes in the file\n",
    "for byte in file_content:\n",
    "    erroneous_byte = generate_errors(byte, STATE_ERROR)\n",
    "    print(erroneous_byte)\n",
    "    result.append(erroneous_byte)"
   ]
  },
  {
   "cell_type": "code",
   "execution_count": 58,
   "id": "345fbbcc",
   "metadata": {},
   "outputs": [
    {
     "name": "stdout",
     "output_type": "stream",
     "text": [
      "Number of errors : 0\n"
     ]
    }
   ],
   "source": [
    "print(f\"Number of errors : {nb_error}\")\n",
    "\n",
    "with open(\"output.bin\", \"wb\") as f:\n",
    "    f.write(result)\n",
    "    pass"
   ]
  },
  {
   "cell_type": "markdown",
   "id": "82bcbbad",
   "metadata": {},
   "source": [
    "**⚠️ ATTENTION ⚠️** veillez à reéxecuter le code de _seeding_ lorsque vous utilisez la génération aléatoire avec la graine. Sinon vous aurez des valeurs différentes que le fichier encodé par nos soins. "
   ]
  },
  {
   "cell_type": "markdown",
   "id": "2566ddf8-0746-4eba-b5ec-ff1787e79d45",
   "metadata": {},
   "source": [
    "## II. Correction d'erreurs\n",
    "\n",
    "Vérifier de deux manières différentes que votre fichier généré est identique au fichier **check_input_with_errors.bin**\n",
    "\n",
    "a) Méthode 1"
   ]
  },
  {
   "cell_type": "code",
   "execution_count": 45,
   "id": "9c0652e5-34db-4959-a66b-14cfcb3034af",
   "metadata": {},
   "outputs": [
    {
     "name": "stdout",
     "output_type": "stream",
     "text": [
      "C'est les mêmes\n",
      "ae9f6a902df7d45ab245dcc96e91c063 ae9f6a902df7d45ab245dcc96e91c063\n"
     ]
    }
   ],
   "source": [
    "# Code for verification method 1 goes here\n",
    "import hashlib\n",
    "\n",
    "hashErrorAdded = hashlib.md5(open('input_with_errors_generated.bin','rb').read()).hexdigest()\n",
    "hashDefaultInput = hashlib.md5(open('check_input_with_error.bin','rb').read()).hexdigest()\n",
    "\n",
    "if hashErrorAdded == hashDefaultInput:\n",
    "    print(\"C'est les mêmes\")\n",
    "print(hashErrorAdded, hashDefaultInput)"
   ]
  },
  {
   "cell_type": "markdown",
   "id": "1e7ec60d",
   "metadata": {},
   "source": [
    "b) Méthode 2"
   ]
  },
  {
   "cell_type": "code",
   "execution_count": 25,
   "id": "acbeaf38",
   "metadata": {},
   "outputs": [],
   "source": [
    "# Code for verification method 2 goes here\n",
    "# & bit a bit"
   ]
  },
  {
   "cell_type": "markdown",
   "id": "5879f787",
   "metadata": {},
   "source": [
    "c) Actuellement le code génère beaucoup d'erreurs, comment peut-on les diminuer ?"
   ]
  },
  {
   "cell_type": "markdown",
   "id": "82067a57-cb06-4287-99ed-be72fa3201b7",
   "metadata": {},
   "source": [
    "< Réponse ici >"
   ]
  }
 ],
 "metadata": {
  "kernelspec": {
   "display_name": "Python 3 (ipykernel)",
   "language": "python",
   "name": "python3"
  },
  "language_info": {
   "codemirror_mode": {
    "name": "ipython",
    "version": 3
   },
   "file_extension": ".py",
   "mimetype": "text/x-python",
   "name": "python",
   "nbconvert_exporter": "python",
   "pygments_lexer": "ipython3",
   "version": "3.11.0rc1"
  }
 },
 "nbformat": 4,
 "nbformat_minor": 5
}
