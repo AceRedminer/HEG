{
 "cells": [
  {
   "cell_type": "markdown",
   "metadata": {},
   "source": [
    "# Bases des télécommunications 1 : Codage de Huffman. Costantino Volta, Jeremy Meissner.\n",
    "\n",
    "## __Introduction__\n",
    "\n",
    "Le but de ce laboratoire est de mettre en pratique les concepts de compression de données vus en classe de Bases des\n",
    "Télécommunications. On travaillera sur la compression d’un fichier texte\n",
    "\n",
    "- Le rendu du **jupyter notebook** doit se faire sur __cyberlearn__ avec le nom de fichier : `telecom_labo1_<nom1>_<nom2>_<nom du groupe>.ipynb`\n",
    "- Le fichier texte utilisé ici doit être encodé en UTF-8 (sans BOM), vous pouvez le vérifier avec Notepad++ par exemple.\n",
    "- Exemple de code python 3 pour ouvrir en lecture un fichier texte en UTF-8 : __*open(INPUT, \"r\", encoding=\"UTF-8\")*__\n"
   ]
  },
  {
   "cell_type": "markdown",
   "metadata": {},
   "source": [
    "Noms des élèves : `Jeremy Meissner - Costantino Volta`"
   ]
  },
  {
   "cell_type": "markdown",
   "metadata": {},
   "source": [
    "<h2>I. Tris alphabétique + fréquentiel</h2>\n",
    "\n",
    "a)  Réalisez  ci-dessous un programme qui lit un fichier texte (input.txt), puis en écrit un nouveau (out1.txt)\n",
    "en écrivant tous les caractères dans l’ordre alphabétique (ordre de leur valeur\n",
    "ASCII).\n",
    "Exemple : **abb@acA → @Aaabbc** (La fonction `sorted` de Python 3 pourrait vous aider, tout comme l’utilisation\n",
    "de dictionnaires)"
   ]
  },
  {
   "cell_type": "code",
   "execution_count": 35,
   "metadata": {},
   "outputs": [],
   "source": [
    "import math\n",
    "\n",
    "# exercice a.\n",
    "sortedInputList = []\n",
    "inputList = []\n",
    "with open(\"input.txt\", \"r\") as file:\n",
    "    contents = file.read()\n",
    "    inputList = list(contents) # Convert the file into an array of char\n",
    "\n",
    "sortedInputList = sorted(inputList) \n",
    "\n",
    "with open(\"out1.txt\", \"w\") as file:\n",
    "    for c in sortedInputList:\n",
    "        file.write(c)"
   ]
  },
  {
   "cell_type": "markdown",
   "metadata": {},
   "source": [
    "b) Ajoutez à votre premier programme la possibilité d'écrire dans un nouveau fichier texte\n",
    "(out2.txt), mais cette fois, les données sont triés dans l’**ordre des fréquences d’apparition décroissante**.\n",
    "\n",
    "``Exemple : abb@acA → aabb@Ac``\n",
    "\n",
    "Votre programme doit afficher dans la console, la fréquence d’apparition pour\n",
    "chaque caractère. (Ainsi que la valeur ascii, hexadécimal et la fréquence d'apparition du caractère)\n",
    "\n",
    "Exemple : \n",
    "\n",
    "<table>\n",
    "<tr>\n",
    "    <td>a</td>\n",
    "    <td>0x61</td>\n",
    "    <td>0.285</td>\n",
    "</tr>\n",
    "<tr>\n",
    "    <td>b</td>\n",
    "    <td>0x62</td>\n",
    "    <td>0.285</td>\n",
    "</tr>\n",
    "<tr>\n",
    "    <td>A</td>\n",
    "    <td>0x41</td>\n",
    "    <td>0.142</td>\n",
    "</tr>\n",
    "</table>\n",
    "\n"
   ]
  },
  {
   "cell_type": "code",
   "execution_count": 36,
   "metadata": {},
   "outputs": [
    {
     "name": "stdout",
     "output_type": "stream",
     "text": [
      "char | ascii | frequency\n",
      "  | 0x20 | 0.151\n",
      "e | 0x65 | 0.122\n",
      "t | 0x74 | 0.084\n",
      "u | 0x75 | 0.062\n",
      "s | 0x73 | 0.06\n",
      "a | 0x61 | 0.057\n",
      "n | 0x6e | 0.057\n",
      "r | 0x72 | 0.05\n",
      "i | 0x69 | 0.047\n",
      "o | 0x6f | 0.042\n",
      "l | 0x6c | 0.037\n",
      "d | 0x64 | 0.03\n",
      "m | 0x6d | 0.03\n",
      "p | 0x70 | 0.022\n",
      "c | 0x63 | 0.017\n",
      ". | 0x2e | 0.017\n",
      "' | 0x27 | 0.012\n",
      "x | 0x78 | 0.012\n",
      "é | 0xe9 | 0.012\n",
      "v | 0x76 | 0.01\n",
      "L | 0x4c | 0.007\n",
      "I | 0x49 | 0.007\n",
      "q | 0x71 | 0.007\n",
      "D | 0x44 | 0.007\n",
      "b | 0x62 | 0.007\n",
      "\n",
      " | 0xa | 0.007\n",
      "g | 0x67 | 0.005\n",
      "C | 0x43 | 0.005\n",
      "è | 0xe8 | 0.002\n",
      "f | 0x66 | 0.002\n",
      "ç | 0xe7 | 0.002\n",
      "à | 0xe0 | 0.002\n",
      ", | 0x2c | 0.002\n"
     ]
    }
   ],
   "source": [
    "# exercice b.\n",
    "sortedByFrequence = {}\n",
    "\n",
    "for c in inputList:\n",
    "    sortedByFrequence[c] = sortedByFrequence.get(c, 0) + 1\n",
    "\n",
    " # sortedByFrequence.sortedByItsValue()???? <--- A dictionnary CAN'T be sort by his values\n",
    "\n",
    "\n",
    "sortedByFrequence = sorted(sortedByFrequence.items(), key=lambda x: x[1], reverse=True) # So using a lambda (that will create tuples and order by the second value in the tuple (which is the value))\n",
    "# was {'L': 3, 't': 34, 'g': 2, ...} <- Dictionnary\n",
    "# now [(' ', 61), ('e', 49), ('t', 34), ...] <- List of Tuple\n",
    "\n",
    "with open(\"out2.txt\", \"w\") as file:\n",
    "    for (char, frequency) in sortedByFrequence:\n",
    "        for _ in range(0, frequency):\n",
    "            file.write(char)\n",
    "\n",
    "\n",
    "\n",
    "sumFrequencies = sum(item[1] for item in sortedByFrequence)\n",
    "\n",
    "print(f\"char | ascii | frequency\")\n",
    "for (char, frequency) in sortedByFrequence:\n",
    "    print(f\"{char} | {hex(ord(char))} | {round(frequency / sumFrequencies, 3)}\")"
   ]
  },
  {
   "cell_type": "markdown",
   "metadata": {},
   "source": [
    "c) Améliorez votre programme pour qu’il calcule l’entropie, la quantité de décision,\n",
    "la redondance et le taux de compression maximal du fichier. Le tout est à afficher\n",
    "dans la console.\n",
    "\n",
    "**⚠️ N’oubliez pas que les espaces, la ponctuation et le retour chariot sont aussi considéré comme des\n",
    "caractères. \n",
    "Votre programme doit pouvoir traiter ces caractères de manière adéquate.**\n"
   ]
  },
  {
   "cell_type": "code",
   "execution_count": 37,
   "metadata": {},
   "outputs": [
    {
     "name": "stdout",
     "output_type": "stream",
     "text": [
      "H = 4.266154878255668\n",
      "D = 5.044394119358453\n",
      "\n",
      "R = D - H\n",
      "0.78 = 5.04 - 4.27\n",
      "\n",
      "R = 0.778239241102785\n",
      "\n",
      "Compression Rate = 0.15\n"
     ]
    }
   ],
   "source": [
    "# exercice c.\n",
    "entropyH = 0\n",
    "entropyMaxD = 0\n",
    "redondancyR = 0\n",
    "compressionRatio = 0\n",
    "\n",
    "\n",
    "for (char, frequency) in sortedByFrequence:\n",
    "    entropyH += frequency / sumFrequencies * math.log2(frequency / sumFrequencies)\n",
    "\n",
    "entropyH = entropyH * -1 # Because the log makes the entropy negative\n",
    "entropyMaxD = math.log2(len(sortedByFrequence))\n",
    "redondancyR = entropyMaxD - entropyH\n",
    "compressionRatio = (entropyMaxD - entropyH) / entropyMaxD\n",
    "\n",
    "\n",
    "print(f\"H = {entropyH}\")\n",
    "print(f\"D = {entropyMaxD}\")\n",
    "print(\"\")\n",
    "print(f\"R = D - H\")\n",
    "print(f\"{round(redondancyR, 2)} = {round(entropyMaxD, 2)} - {round(entropyH, 2)}\")\n",
    "print(\"\")\n",
    "print(f\"R = {redondancyR}\")\n",
    "print(\"\")\n",
    "print(f\"Compression Rate = {round(compressionRatio, 2)}\")"
   ]
  },
  {
   "cell_type": "markdown",
   "metadata": {},
   "source": [
    "<h2>II. Code de Huffman</h2>\n",
    "\n",
    "On veut construire un code de Huffman pour compresser notre fichier texte. On part du principe\n",
    "que le code n’a pas besoin d’être transmis dans le fichier compressé. \n"
   ]
  },
  {
   "cell_type": "markdown",
   "metadata": {},
   "source": [
    "a) À partir de l’exercice précédent (utilisez les mêmes valeurs précement calculées), écrivez un code générant un codage de Huffman pour\n",
    "les caractères de ce fichier. Votre programme doit imprimer l'arbre de codage que vous avez générer. Affichez la valeur ASCII des\n",
    "charactères ainsi que leur code binaire généré par codage de Huffman."
   ]
  },
  {
   "cell_type": "markdown",
   "metadata": {},
   "source": [
    "Exemple:\n",
    "\n",
    "<table>\n",
    "<tr>\n",
    "    <td>0x61</td>\n",
    "    <td>11</td>\n",
    "</tr>\n",
    "<tr>\n",
    "    <td>0x62</td>\n",
    "    <td>10</td>\n",
    "</tr>\n",
    "<tr>\n",
    "    <td>0x40</td>\n",
    "    <td>00</td>\n",
    "</tr>\n",
    "<tr>\n",
    "    <td>0x63</td>\n",
    "    <td>011</td>\n",
    "</tr>\n",
    "<tr>\n",
    "    <td>0x41</td>\n",
    "    <td>010</td>\n",
    "</tr>\n",
    "</table>"
   ]
  },
  {
   "cell_type": "code",
   "execution_count": 38,
   "metadata": {},
   "outputs": [
    {
     "name": "stdout",
     "output_type": "stream",
     "text": [
      "0x65 | 100\n",
      "0x20 | 110\n",
      "0x69 | 0001\n",
      "0x72 | 0010\n",
      "0x6e | 0100\n",
      "0x61 | 0101\n",
      "0x73 | 0111\n",
      "0x75 | 1010\n",
      "0x74 | 1111\n",
      "0x70 | 00000\n",
      "0x6d | 01100\n",
      "0x64 | 01101\n",
      "0x6c | 10111\n",
      "0x6f | 11101\n",
      "0xe9 | 000011\n",
      "0x78 | 001100\n",
      "0x27 | 001101\n",
      "0x2e | 101101\n",
      "0x63 | 111000\n",
      "0x67 | 0000100\n",
      "0x49 | 0011100\n",
      "0x4c | 0011101\n",
      "0x44 | 0011110\n",
      "0x71 | 0011111\n",
      "0xa | 1011000\n",
      "0x62 | 1011001\n",
      "0x76 | 1110011\n",
      "0xe8 | 00001010\n",
      "0x43 | 11100101\n",
      "0xe7 | 000010110\n",
      "0x66 | 000010111\n",
      "0x2c | 111001000\n",
      "0xe0 | 111001001\n"
     ]
    }
   ],
   "source": [
    "# exercice a.\n",
    "class Node:\n",
    "   def __init__(self, data):\n",
    "      self.left = None\n",
    "      self.right = None\n",
    "      self.data = data\n",
    "\n",
    "   def ArrayHuffman(self, binaryCode, array):\n",
    "      if isinstance(self.data, tuple):\n",
    "         array.append((self.data[0], hex(ord(self.data[0])), binaryCode))\n",
    "      else:\n",
    "         if self.left:\n",
    "            self.left.ArrayHuffman(binaryCode + \"0\", array)\n",
    "         if self.right:\n",
    "            self.right.ArrayHuffman(binaryCode + \"1\", array)\n",
    "\n",
    "\n",
    "huffmanReady = [(char, frequency / sumFrequencies) for char, frequency in sortedByFrequence]\n",
    "\n",
    "\n",
    "for i in range(len(huffmanReady)-1,0, -1):\n",
    "    node2data = 0\n",
    "    if not isinstance(huffmanReady[i][0], Node):\n",
    "        node0 = Node(huffmanReady[i])\n",
    "        node2data += node0.data[1]\n",
    "    else:\n",
    "        node0 = huffmanReady[i][0] \n",
    "        node2data += node0.data\n",
    "    \n",
    "    if not isinstance(huffmanReady[i-1][0], Node):\n",
    "        node1 = Node(huffmanReady[i-1])\n",
    "        node2data += node1.data[1]\n",
    "    else:\n",
    "        node1 = huffmanReady[i-1][0] \n",
    "        node2data += node1.data\n",
    "\n",
    "    node2 = Node(node2data)\n",
    "    node2.left = node0\n",
    "    node2.right = node1\n",
    "    huffmanReady.pop(i)\n",
    "    huffmanReady.pop(i-1)\n",
    "    huffmanReady.append((node2, node2.data))\n",
    "    huffmanReady = sorted(huffmanReady, key=lambda x: x[1], reverse=True)\n",
    "\n",
    "\n",
    "huffmanArray = []\n",
    "root = huffmanReady[0][0]\n",
    "root.ArrayHuffman(\"\", huffmanArray)\n",
    "huffmanArray = sorted(huffmanArray, key=lambda x: len(x[2]))\n",
    "\n",
    "for s in huffmanArray:\n",
    "   print(f\"{s[1]} | {s[2]}\")"
   ]
  },
  {
   "cell_type": "markdown",
   "metadata": {},
   "source": [
    "b) Afficher le taux moyen de bits par caractère de votre code, dans la console."
   ]
  },
  {
   "cell_type": "code",
   "execution_count": 39,
   "metadata": {},
   "outputs": [
    {
     "name": "stdout",
     "output_type": "stream",
     "text": [
      "lm is 5.96969696969697\n"
     ]
    }
   ],
   "source": [
    "summ = 0\n",
    "\n",
    "for s in huffmanArray:\n",
    "   summ += len(s[2])\n",
    "\n",
    "lm = summ / len(huffmanArray)\n",
    "print(\"lm is\", lm)"
   ]
  },
  {
   "cell_type": "markdown",
   "metadata": {},
   "source": [
    " c) Que pouvez-vous conclure du résultat obtenu à l'exercice b) et de l’entropie du point (I.c), en une phrase ?\n"
   ]
  },
  {
   "cell_type": "markdown",
   "metadata": {},
   "source": [
    "Notre lm est de 5.96....\n",
    "L'entropy est de 4.555\n",
    "\n",
    "On peut directement remarquer que le codage Huffman est sous-optimal.\n",
    "\n",
    "On peut également calculer la redondance résiduel ci-dessous (qui est d'environ 1.7). On peut donc conclure qu'il est possible de encore possible de trouver un codage plus optimal."
   ]
  },
  {
   "cell_type": "code",
   "execution_count": 40,
   "metadata": {},
   "outputs": [
    {
     "name": "stdout",
     "output_type": "stream",
     "text": [
      "Rr = lm - H = 5.97 - 4.27 = 1.7\n"
     ]
    }
   ],
   "source": [
    "Rr = lm - entropyH\n",
    "\n",
    "print(f\"Rr = lm - H = {round(lm, 2)} - {round(entropyH, 2)} = {round(Rr, 2)}\")"
   ]
  },
  {
   "cell_type": "markdown",
   "metadata": {},
   "source": [
    "d) Compressez le fichier texte d’input dans un nouveau fichier binaire (huffman.bin) à l'aide de votre arbre de codage. Si la longueur du message codé n’est pas un multiple de 8, rajoutez des bits 0 à la fin. Le\n",
    "fichier compressé doit avoir une taille sur disque significativement plus petite que\n",
    "celui que le fichier source."
   ]
  },
  {
   "cell_type": "code",
   "execution_count": 41,
   "metadata": {},
   "outputs": [],
   "source": [
    "outputList = []\n",
    "summ = 0\n",
    "\n",
    "for c in inputList:\n",
    "    for huf in huffmanArray:\n",
    "        if huf[0] == c:\n",
    "            outputList.append(huf[2])\n",
    "            summ += len(huf[2])\n",
    "            break\n",
    "\n",
    "numberOfAddedZero = 0 if (summ % 8) == 0 else 8 - (summ % 8) \n",
    "\n",
    "outputString = \"\"\n",
    "for s in outputList:\n",
    "    outputString += s\n",
    "\n",
    "outputString += \"0\" * numberOfAddedZero\n",
    "\n",
    "byteLength = (len(outputString) + 7) // 8\n",
    "\n",
    "\n",
    "with open(\"huffman.bin\", \"wb\") as file:\n",
    "    file.write(int(outputString, 2).to_bytes(byteLength, byteorder=\"big\"))"
   ]
  },
  {
   "cell_type": "markdown",
   "metadata": {},
   "source": [
    "e) Que manquerait-il à ce fichier binaire pour être décodé par n’importe qui ?\n",
    "(Bonus)"
   ]
  },
  {
   "cell_type": "markdown",
   "metadata": {},
   "source": [
    "Il faudrait mettre dans l'entête le dictionnaire du code huffman qui permettrait à la personne qui reçoi de pouvoir décoder les charactères (à partir des codes binaires reçu)"
   ]
  },
  {
   "cell_type": "markdown",
   "metadata": {},
   "source": [
    "# Bonus\n",
    "\n",
    "Codez par vous même la fonction de tri sans faire appel à la fonction `sorted()` de python"
   ]
  },
  {
   "cell_type": "code",
   "execution_count": 42,
   "metadata": {},
   "outputs": [
    {
     "name": "stdout",
     "output_type": "stream",
     "text": [
      "['a', 'a', 'b', 'f']\n"
     ]
    }
   ],
   "source": [
    "tabOfChars = ['b', 'a', 'a', 'f']# transformation du fichier lu en tableau de charactères\n",
    "\n",
    "def mySortedFunc(tab):\n",
    "    def find_idx_min(tab):\n",
    "        min_val = tab[0]\n",
    "        idx_min = 0\n",
    "        for i in range(len(tab)):\n",
    "            if tab[i] < min_val:\n",
    "                min_val = tab[i]\n",
    "                idx_min = i\n",
    "        return idx_min\n",
    "\n",
    "    def swap(tab, idx_x, idx_y):\n",
    "        tab[idx_x], tab[idx_y] = tab[idx_y], tab[idx_x]\n",
    "\n",
    "    def selection_sort(tab):\n",
    "        for i in range(len(tab)):\n",
    "            idx_min = find_idx_min(tab[i:])\n",
    "            swap(tab, i, i + idx_min)\n",
    "\n",
    "    selection_sort(tab)\n",
    "    return tab\n",
    "\n",
    "sortedChars = mySortedFunc(tabOfChars)\n",
    "print(sortedChars)"
   ]
  },
  {
   "cell_type": "code",
   "execution_count": 45,
   "metadata": {},
   "outputs": [
    {
     "data": {
      "text/html": [
       "<script>var idx = Jupyter.notebook.get_cells().length-1;\n",
       "Jupyter.notebook.get_cell(idx).set_text('Bravo! ![success](https://media.tenor.com/-8Uay6X3E3UAAAAC/gil-cat.gif)');\n",
       "Jupyter.notebook.to_markdown(idx);\n",
       "Jupyter.notebook.execute_cell(idx);</script>"
      ],
      "text/plain": [
       "<IPython.core.display.HTML object>"
      ]
     },
     "metadata": {},
     "output_type": "display_data"
    }
   ],
   "source": [
    "from IPython.display import display, HTML, Image\n",
    "\n",
    "resolved = sorted(tabOfChars) == mySortedFunc(tabOfChars)\n",
    "    \n",
    "# Validation\n",
    "js_code = \"var idx = Jupyter.notebook.get_cells().length-1;\\n\"\n",
    "if resolved:\n",
    "    js_code += \"Jupyter.notebook.get_cell(idx).set_text('Bravo! ![success](https://media.tenor.com/-8Uay6X3E3UAAAAC/gil-cat.gif)');\\n\"\n",
    "else:\n",
    "    js_code += \"Jupyter.notebook.get_cell(idx).set_text('Incorrect! ![failed](https://media.tenor.com/jr9t3yabkH8AAAAC/ah-shit-here-we-go-again.gif)');\\n\"\n",
    "\n",
    "js_code += \"Jupyter.notebook.to_markdown(idx);\\nJupyter.notebook.execute_cell(idx);\"\n",
    "\n",
    "display(HTML('<script>{}</script>'.format(js_code)))\n"
   ]
  },
  {
   "cell_type": "markdown",
   "metadata": {},
   "source": [
    "Fin"
   ]
  }
 ],
 "metadata": {
  "kernelspec": {
   "display_name": "Python 3 (ipykernel)",
   "language": "python",
   "name": "python3"
  },
  "language_info": {
   "codemirror_mode": {
    "name": "ipython",
    "version": 3
   },
   "file_extension": ".py",
   "mimetype": "text/x-python",
   "name": "python",
   "nbconvert_exporter": "python",
   "pygments_lexer": "ipython3",
   "version": "3.9.12"
  }
 },
 "nbformat": 4,
 "nbformat_minor": 4
}
