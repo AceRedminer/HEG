{
 "cells": [
  {
   "cell_type": "markdown",
   "metadata": {},
   "source": [
    "\n",
    "# Bases des télécommunications 1\n",
    "\n",
    "Date : 10/11/2023\n",
    "\n",
    "Étudiants : Meissner, Volta"
   ]
  },
  {
   "cell_type": "markdown",
   "metadata": {},
   "source": [
    "\n",
    "## __Introduction__\n",
    "\n",
    "Le but de ce laboratoire est de mettre en pratique les concepts de compression de données vus en classe de Bases des\n",
    "Télécommunications. On travaillera sur la compression d’un fichier texte\n",
    "\n",
    "- Le rendu du **jupyter notebook** doit se faire sur __cyberlearn__ sous le format de nom de fichier \"telecom_labo2_\\<nom1\\>_\\<nom2\\>.ipynb\" \n",
    "- Le fichier texte utilisé ici doit être encodé en UTF-8 (sans BOM), vous pouvez le vérifier avec Notepad++ par exemple.\n",
    "- Exemple de code python 3 pour ouvrir en lecture un fichier texte en UTF-8 : __*open(INPUT, \"r\", encoding=\"UTF-8\")*__\n"
   ]
  },
  {
   "cell_type": "markdown",
   "metadata": {},
   "source": [
    "# III. Shannon-Fano\n",
    "\n",
    "On veut construire un code de Shannon-Fano pour compresser notre fichier texte. On part du\n",
    "principe que l'arbre de codage généré n’a pas besoin d’être transmis dans le fichier compressé.\n",
    "\n",
    "a) Comme le codage de Huffman, réalisez ci-dessous un programme qui lit un fichier texte, puis générez un codage de\n",
    "Shannon-Fano pour les caractères de ce fichier. Votre programme doit afficher le code\n",
    "binaire choisi pour chaque caractère.\n",
    "\n",
    "\n",
    "Exemple :\n",
    "\n",
    "<table>\n",
    "<thead>\n",
    "    <tr>\n",
    "        <th>char</th>\n",
    "        <th>hex</th>\n",
    "        <th>binary</th>\n",
    "    </tr>\n",
    "</thead>\n",
    "<tr>\n",
    "    <td>a</td>\n",
    "    <td>0x61</td>\n",
    "    <td>11</td>\n",
    "</tr>\n",
    "<tr>\n",
    "    <td>b</td>\n",
    "    <td>0x62</td>\n",
    "    <td>10</td>\n",
    "</tr>\n",
    "<tr>\n",
    "    <td>@</td>\n",
    "    <td>0x40</td>\n",
    "    <td>00</td>\n",
    "</tr>\n",
    "<tr>\n",
    "    <td>c</td>\n",
    "    <td>0x63</td>\n",
    "    <td>011</td>\n",
    "</tr>\n",
    "<tr>\n",
    "    <td>A</td>\n",
    "    <td>0x41</td>\n",
    "    <td>010</td>\n",
    "</tr>\n",
    "</table>"
   ]
  },
  {
   "cell_type": "code",
   "execution_count": 284,
   "metadata": {},
   "outputs": [
    {
     "name": "stdout",
     "output_type": "stream",
     "text": [
      "char | ascii | frequency\n",
      "  | 0x20 | 0.151\n",
      "e | 0x65 | 0.122\n",
      "t | 0x74 | 0.084\n",
      "u | 0x75 | 0.062\n",
      "s | 0x73 | 0.06\n",
      "a | 0x61 | 0.057\n",
      "n | 0x6e | 0.057\n",
      "r | 0x72 | 0.05\n",
      "i | 0x69 | 0.047\n",
      "o | 0x6f | 0.042\n",
      "l | 0x6c | 0.037\n",
      "d | 0x64 | 0.03\n",
      "m | 0x6d | 0.03\n",
      "p | 0x70 | 0.022\n",
      "c | 0x63 | 0.017\n",
      ". | 0x2e | 0.017\n",
      "' | 0x27 | 0.012\n",
      "x | 0x78 | 0.012\n",
      "é | 0xe9 | 0.012\n",
      "v | 0x76 | 0.01\n",
      "L | 0x4c | 0.007\n",
      "I | 0x49 | 0.007\n",
      "q | 0x71 | 0.007\n",
      "D | 0x44 | 0.007\n",
      "b | 0x62 | 0.007\n",
      "\n",
      " | 0xa | 0.007\n",
      "g | 0x67 | 0.005\n",
      "C | 0x43 | 0.005\n",
      "è | 0xe8 | 0.002\n",
      "f | 0x66 | 0.002\n",
      "ç | 0xe7 | 0.002\n",
      "à | 0xe0 | 0.002\n",
      ", | 0x2c | 0.002\n"
     ]
    }
   ],
   "source": [
    "# exercice a.\n",
    "inputList = []\n",
    "with open(\"input.txt\", \"r\", encoding=\"UTF-8\") as file:\n",
    "    contents = file.read()\n",
    "    inputList = list(contents) # Convert the file into an array of char\n",
    "\n",
    "\n",
    "sortedByFrequence = {}\n",
    "\n",
    "for c in inputList:\n",
    "    sortedByFrequence[c] = sortedByFrequence.get(c, 0) + 1\n",
    "\n",
    " # sortedByFrequence.sortedByItsValue()???? <--- A dictionnary CAN'T be sort by his values\n",
    "\n",
    "sortedByFrequence = sorted(sortedByFrequence.items(), key=lambda x: x[1], reverse=True) # So using a lambda (that will create tuples and order by the second value in the tuple (which is the value))\n",
    "# was {'L': 3, 't': 34, 'g': 2, ...} <- Dictionnary\n",
    "# now [(' ', 61), ('e', 49), ('t', 34), ...] <- List of Tuple\n",
    "\n",
    "with open(\"out2.txt\", \"w\") as file:\n",
    "    for (char, frequency) in sortedByFrequence:\n",
    "        for _ in range(0, frequency):\n",
    "            file.write(char)\n",
    "\n",
    "\n",
    "\n",
    "sumFrequencies = sum(item[1] for item in sortedByFrequence)\n",
    "\n",
    "print(f\"char | ascii | frequency\")\n",
    "for (char, frequency) in sortedByFrequence:\n",
    "    print(f\"{char} | {hex(ord(char))} | {round(frequency / sumFrequencies, 3)}\")\n",
    "\n",
    "\n",
    "\n",
    "shannonReady = [(char, frequency / sumFrequencies) for char, frequency in sortedByFrequence]\n"
   ]
  },
  {
   "cell_type": "code",
   "execution_count": 285,
   "metadata": {},
   "outputs": [],
   "source": [
    "# exercice a.\n",
    "class Node:\n",
    "   def __init__(self, data):\n",
    "      self.left = None\n",
    "      self.right = None\n",
    "      self.data = data\n",
    "\n",
    "\n",
    "def ShowTreeOfTuple(binaryCode, node: Node, array):\n",
    "   if (node.data[0] == ''):\n",
    "      if node.left:\n",
    "         ShowTreeOfTuple(binaryCode + \"0\", node.left, array)\n",
    "      if node.right:\n",
    "         ShowTreeOfTuple(binaryCode + \"1\", node.right, array)\n",
    "   else:\n",
    "      array.append((node.data[0], node.data[1], hex(ord(node.data[0])), binaryCode))\n",
    "      return\n",
    "\n",
    "\n",
    "def shannonFano(array: list[tuple], node: Node):\n",
    "   sum = 0\n",
    "   tmp = []    \n",
    "   i = 0\n",
    "   midValue = node.data[1] / 2;\n",
    "\n",
    "   for i in range(len(array) - 1):\n",
    "      sum += array[i][1]\n",
    "      tmp.append(array[i])\n",
    "\n",
    "      if abs(midValue - sum) < abs(midValue - (sum + array[i + 1][1])):\n",
    "         if (len(tmp) == 1):\n",
    "             node.left = Node(array[i])\n",
    "         else:\n",
    "             nodeGroup1 = Node(('', sum))\n",
    "             node.left = nodeGroup1\n",
    "\n",
    "             shannonFano(tmp, nodeGroup1)\n",
    "         break;\n",
    "\n",
    "   tmp = []\n",
    "   sum = 0\n",
    "\n",
    "   for j in range(i+1, len(array)):\n",
    "      sum += array[j][1]\n",
    "      tmp.append(array[j])\n",
    "\n",
    "   if (len(tmp) == 1):\n",
    "      node.right = Node(array[j])\n",
    "   else:\n",
    "      nodeGroup2 = Node(('', sum))\n",
    "      node.right = nodeGroup2\n",
    "\n",
    "      shannonFano(tmp, nodeGroup2)\n",
    "   \n",
    "   return\n"
   ]
  },
  {
   "cell_type": "code",
   "execution_count": 286,
   "metadata": {},
   "outputs": [
    {
     "name": "stdout",
     "output_type": "stream",
     "text": [
      "  | 0.1513647642679901 | 0x20 | 0x20 | 3\n",
      "e | 0.12158808933002481 | 0x65 | 0x65 | 3\n",
      "t | 0.08436724565756824 | 0x74 | 0x74 | 3\n",
      "u | 0.062034739454094295 | 0x75 | 0x75 | 4\n",
      "s | 0.05955334987593052 | 0x73 | 0x73 | 4\n",
      "a | 0.05707196029776675 | 0x61 | 0x61 | 4\n",
      "n | 0.05707196029776675 | 0x6e | 0x6e | 4\n",
      "r | 0.04962779156327544 | 0x72 | 0x72 | 4\n",
      "i | 0.04714640198511166 | 0x69 | 0x69 | 5\n",
      "o | 0.04218362282878412 | 0x6f | 0x6f | 5\n",
      "l | 0.03722084367245657 | 0x6c | 0x6c | 5\n",
      "d | 0.02977667493796526 | 0x64 | 0x64 | 5\n",
      "m | 0.02977667493796526 | 0x6d | 0x6d | 5\n",
      "p | 0.022332506203473945 | 0x70 | 0x70 | 6\n",
      "c | 0.017369727047146403 | 0x63 | 0x63 | 6\n",
      ". | 0.017369727047146403 | 0x2e | 0x2e | 6\n",
      "' | 0.01240694789081886 | 0x27 | 0x27 | 6\n",
      "x | 0.01240694789081886 | 0x78 | 0x78 | 6\n",
      "é | 0.01240694789081886 | 0xe9 | 0xe9 | 7\n",
      "v | 0.009925558312655087 | 0x76 | 0x76 | 7\n",
      "L | 0.007444168734491315 | 0x4c | 0x4c | 7\n",
      "I | 0.007444168734491315 | 0x49 | 0x49 | 7\n",
      "q | 0.007444168734491315 | 0x71 | 0x71 | 7\n",
      "D | 0.007444168734491315 | 0x44 | 0x44 | 7\n",
      "b | 0.007444168734491315 | 0x62 | 0x62 | 7\n",
      "\n",
      " | 0.007444168734491315 | 0xa | 0xa | 8\n",
      "g | 0.004962779156327543 | 0x67 | 0x67 | 8\n",
      "C | 0.004962779156327543 | 0x43 | 0x43 | 8\n",
      "è | 0.0024813895781637717 | 0xe8 | 0xe8 | 8\n",
      "f | 0.0024813895781637717 | 0x66 | 0x66 | 9\n",
      "ç | 0.0024813895781637717 | 0xe7 | 0xe7 | 9\n",
      "à | 0.0024813895781637717 | 0xe0 | 0xe0 | 9\n",
      ", | 0.0024813895781637717 | 0x2c | 0x2c | 9\n"
     ]
    }
   ],
   "source": [
    "root = Node(('', 1))\n",
    "\n",
    "shannonFano(shannonReady, root)\n",
    "\n",
    "shannonArray = []\n",
    "ShowTreeOfTuple(\"\", root, shannonArray)\n",
    "\n",
    "lm = 0\n",
    "\n",
    "for s in shannonArray:\n",
    "   lm += (len(s[3]) * s[1])\n",
    "   print(f\"{s[0]} | {s[1]} | {s[2]} | {s[2]} | {len(s[3])}\")"
   ]
  },
  {
   "cell_type": "markdown",
   "metadata": {},
   "source": [
    "b) Afficher le taux moyen de bits par caractère de votre code, dans la console."
   ]
  },
  {
   "cell_type": "code",
   "execution_count": 287,
   "metadata": {},
   "outputs": [
    {
     "name": "stdout",
     "output_type": "stream",
     "text": [
      "Taux moyen est lm = 4.300248138957818, H = 4.266154878255668\n",
      "R = 4.300248138957818 - 4.266154878255668 = 0.03409326070215002 | H - lm\n"
     ]
    }
   ],
   "source": [
    "# exercice b.\n",
    "import math\n",
    "\n",
    "\n",
    "entropyH = 0\n",
    "for (char, frequency) in sortedByFrequence:\n",
    "    entropyH += frequency / sumFrequencies * math.log2(frequency / sumFrequencies)\n",
    "\n",
    "entropyH = entropyH * -1 # Because the log makes the entropy negative\n",
    "\n",
    "\n",
    "\n",
    "print(f\"Taux moyen est lm = {lm}, H = {entropyH}\")\n",
    "print(f\"R = {lm} - {entropyH} = {lm - entropyH} | H - lm\")"
   ]
  },
  {
   "cell_type": "markdown",
   "metadata": {},
   "source": [
    " c) Que pouvez-vous conclure du résultat obtenu à l'exercice b) et de l’entropie du point (I.c), en une phrase ?\n"
   ]
  },
  {
   "cell_type": "markdown",
   "metadata": {},
   "source": [
    "On est sous-optimal, car on a une redondance résiduel > 0, donc encore possible d'optimiser avec un code peut être optimal ?"
   ]
  },
  {
   "cell_type": "markdown",
   "metadata": {},
   "source": [
    "d) Compresser le fichier texte d’input dans un nouveau fichier binaire à l'aide de votre arbre de codage. Si la longueur du message codé n’est pas un multiple de 8, rajouter des bits 0 à la fin. Le\n",
    "fichier compressé doit avoir une taille sur disque significativement plus petite que\n",
    "celui de base."
   ]
  },
  {
   "cell_type": "code",
   "execution_count": 288,
   "metadata": {},
   "outputs": [],
   "source": [
    "# exercice c.\n",
    "outputList = []\n",
    "summ = 0\n",
    "\n",
    "for c in inputList:\n",
    "    for shan in shannonArray:\n",
    "        if shan[0] == c:\n",
    "            outputList.append(shan[3])\n",
    "            summ += len(shan[3])\n",
    "            break\n",
    "\n",
    "numberOfAddedZero = 0 if (summ % 8) == 0 else 8 - (summ % 8) \n",
    "\n",
    "outputString = \"\"\n",
    "for s in outputList:\n",
    "    outputString += s\n",
    "\n",
    "outputString += \"0\" * numberOfAddedZero\n",
    "\n",
    "byteLength = (len(outputString) + 7) // 8\n",
    "\n",
    "\n",
    "with open(\"shannon.bin\", \"wb\") as file:\n",
    "    file.write(int(outputString, 2).to_bytes(byteLength, byteorder=\"big\"))\n"
   ]
  },
  {
   "cell_type": "markdown",
   "metadata": {},
   "source": [
    "e) Que manquerait-il a ce fichier binaire pour pouvoir être décodé par n’importe qui ?\n",
    "(Bonus)"
   ]
  },
  {
   "cell_type": "markdown",
   "metadata": {},
   "source": [
    "Il manque:\n",
    "- Savoir comment on a diviser le tableau/Ou est la frontière (quel arrondi utilisé, ensuite si égal, dessus ou dessous)\n",
    "- Quel côté on met le 0 et 1\n",
    "- Pour les fréquences similaire, l'ordre utilisé (alphabétique, non-alphabétique, ...)\n",
    "\n",
    "\n",
    "Et que l'autre personne décode en utilisant Shannon-Fano **ET** en utilisant ces mêmes règles"
   ]
  },
  {
   "cell_type": "markdown",
   "metadata": {},
   "source": [
    "# IV. Bonus"
   ]
  },
  {
   "cell_type": "markdown",
   "metadata": {},
   "source": [
    "⚠️ Difficile ⚠️ Pas obligatoire\n",
    "\n",
    "Implémentez par vos moyens la compression de Lempel-Ziv-Welch ([Wikipedia](https://en.wikipedia.org/wiki/Lempel%E2%80%93Ziv%E2%80%93Welch)) et réalisez une étude comparative de cette méthode avec celles vues en cours."
   ]
  },
  {
   "cell_type": "code",
   "execution_count": null,
   "metadata": {},
   "outputs": [],
   "source": []
  }
 ],
 "metadata": {
  "kernelspec": {
   "display_name": "Python 3 (ipykernel)",
   "language": "python",
   "name": "python3"
  },
  "language_info": {
   "codemirror_mode": {
    "name": "ipython",
    "version": 3
   },
   "file_extension": ".py",
   "mimetype": "text/x-python",
   "name": "python",
   "nbconvert_exporter": "python",
   "pygments_lexer": "ipython3",
   "version": "3.9.12"
  }
 },
 "nbformat": 4,
 "nbformat_minor": 4
}
