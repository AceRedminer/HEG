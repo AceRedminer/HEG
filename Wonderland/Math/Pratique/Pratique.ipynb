{
 "cells": [
  {
   "cell_type": "markdown",
   "metadata": {},
   "source": [
    "# Math Baillif Pratique\n",
    "## Opération pôlynomiale"
   ]
  },
  {
   "cell_type": "code",
   "execution_count": 163,
   "metadata": {},
   "outputs": [],
   "source": [
    "def poly_add(poly_1, poly_2):\n",
    "    max_len = max(len(poly_1), len(poly_2))\n",
    "    poly_1 += [0] * (max_len - len(poly_1))\n",
    "    poly_2 += [0] * (max_len - len(poly_2))\n",
    "    poly_3 = [0] * max_len\n",
    "    for x in range(max_len):\n",
    "        poly_3[x] = poly_1[x] + poly_2[x]\n",
    "    return poly_3\n",
    "\n",
    "def poly_sub(poly_1, poly_2):\n",
    "    max_len = max(len(poly_1), len(poly_2))\n",
    "    poly_1 += [0] * (max_len - len(poly_1))\n",
    "    poly_2 += [0] * (max_len - len(poly_2))\n",
    "    poly_3 = [0] * max_len\n",
    "    for x in range(max_len):\n",
    "        poly_3[x] = poly_1[x] - poly_2[x]\n",
    "    return poly_3\n",
    "\n",
    "def poly_mul(poly_1, poly_2):\n",
    "    max_len = len(poly_1) + len(poly_2) - 1\n",
    "    poly_3 = [0] * max_len\n",
    "\n",
    "    for i in range(len(poly_1)):\n",
    "        for j in range(len(poly_2)):\n",
    "            poly_3[i + j] += poly_1[i] * poly_2[j]\n",
    "\n",
    "    return poly_3\n",
    "\n",
    "def poly_div(poly_1, poly_2):\n",
    "    max_len = max(len(poly_1), len(poly_2))\n",
    "    poly_1 += [1] * (max_len - len(poly_1))\n",
    "    poly_2 += [1] * (max_len - len(poly_2))\n",
    "    poly_3 = [0] * max_len\n",
    "    for x in range(max_len):\n",
    "        poly_3[x] = poly_1[x] / poly_2[x]\n",
    "    return poly_3"
   ]
  },
  {
   "cell_type": "markdown",
   "metadata": {},
   "source": [
    "## Formattage des polynômes"
   ]
  },
  {
   "cell_type": "code",
   "execution_count": 164,
   "metadata": {},
   "outputs": [],
   "source": [
    "def pol_string(p):\n",
    "        s = ''\n",
    "        for l, k in enumerate(p):\n",
    "            if k != 0:\n",
    "                if k < 0:\n",
    "                    s += ' '\n",
    "                elif l > 0 and k > 0:\n",
    "                    s += ' + '\n",
    "                if l == 0:\n",
    "                    s += str(k)\n",
    "                else:\n",
    "                    if k != 1:\n",
    "                        s += str(k)+'*'\n",
    "                    if l == 1:\n",
    "                        s += 'x '\n",
    "                    if l > 1:\n",
    "                        s += 'x^' + str(l)\n",
    "        return s"
   ]
  },
  {
   "cell_type": "markdown",
   "metadata": {},
   "source": [
    "## Evaluation pôlynomiale"
   ]
  },
  {
   "cell_type": "code",
   "execution_count": 165,
   "metadata": {},
   "outputs": [],
   "source": [
    "def eval_pol(coeff, x):  # Les indices de coeff correspondent a la puissance de x correspondante\n",
    "    res = 0\n",
    "    ind = 0\n",
    "    for n in coeff:\n",
    "        res += n * pow(x, ind)\n",
    "        ind += 1\n",
    "    print(res)\n",
    "    return res"
   ]
  },
  {
   "cell_type": "markdown",
   "metadata": {},
   "source": [
    "## Lagrange"
   ]
  },
  {
   "cell_type": "code",
   "execution_count": 166,
   "metadata": {},
   "outputs": [],
   "source": [
    "def remove_zero(p):\n",
    "    m = len(p)\n",
    "    n = 1\n",
    "    while n <= m and p[-n] == 0:\n",
    "        n += 1\n",
    "    return p[:m-n+1]"
   ]
  },
  {
   "cell_type": "code",
   "execution_count": 167,
   "metadata": {},
   "outputs": [],
   "source": [
    "def lagrange(points):\n",
    "    li = [0]\n",
    "    res = [1] \n",
    "    for l in points:\n",
    "        term = [1]\n",
    "        factor = []\n",
    "        for t in points:\n",
    "            if l[0] != t[0]:\n",
    "                num = -t[0]\n",
    "                denum = (l[0] - t[0])\n",
    "                factor = [num / denum, 1 / denum]\n",
    "                term = poly_mul(term, factor)\n",
    "        res = poly_mul([l[1]], term)\n",
    "        li = poly_add(res, li)\n",
    "        li = remove_zero(li)\n",
    "\n",
    "\n",
    "lagrange([(0, 1), (1, 2), (2, 3), (3, 4)])"
   ]
  },
  {
   "cell_type": "markdown",
   "metadata": {},
   "source": [
    "## Opération polynomiale modulaire"
   ]
  },
  {
   "cell_type": "code",
   "execution_count": 168,
   "metadata": {},
   "outputs": [],
   "source": [
    "def poly_mul_mod(poly_1, poly_2, mod):\n",
    "    max_len = len(poly_1) + len(poly_2) - 1\n",
    "    poly_3 = [0] * max_len\n",
    "    for i in range(len(poly_1)):\n",
    "        for j in range(len(poly_2)):\n",
    "            mul_mod_polys = (poly_1[i] * poly_2[j]) % mod\n",
    "            poly_3[i + j] = (poly_3[i + j] + mul_mod_polys) % mod\n",
    "    return poly_3\n",
    "\n",
    "def poly_add_mod(poly_1, poly_2, mod):\n",
    "    max_len = max(len(poly_1), len(poly_2))\n",
    "    poly_1 =  (poly_1 + [0] * (max_len - len(poly_1)))\n",
    "    poly_2 =  (poly_2 + [0] * (max_len - len(poly_2)))\n",
    "    poly_3 = [0] * max_len\n",
    "    for x in range(max_len):\n",
    "        poly_3[x] = + (poly_1[x] + poly_2[x]) % mod\n",
    "    return poly_3\n",
    "\n",
    "def calc_inv_mod(poly, mod):\n",
    "    a = poly\n",
    "    b = mod\n",
    "    x_min_1 = 1\n",
    "    y_min_1 = 0\n",
    "    y = 1\n",
    "    x = 0\n",
    "    while b != 0:\n",
    "        q = a//b\n",
    "        a, b = b, a % b\n",
    "        x_min_1, x = x, x_min_1 - q * x\n",
    "        y_min_1, y = y, y_min_1 - q * y\n",
    "    return x_min_1\n",
    "\n",
    "def poly_div_mod(poly_1, poly_2, mod):\n",
    "    inverse_mod = calc_inv_mod(poly_2, mod)\n",
    "    return poly_1 * inverse_mod\n",
    "\n",
    "def pow_mod(x, n, mod):\n",
    "    return pow(x, n, mod)\n",
    "\n",
    "def eval_pol_mod(coeff, x, mod):  # Les indices de coeff correspondent a la puissance de x correspondante\n",
    "    res = 0\n",
    "    ind = 0\n",
    "    for n in coeff:\n",
    "        res = (res + n * pow(x, ind)) % mod\n",
    "        ind += 1\n",
    "    return (res % mod)"
   ]
  },
  {
   "cell_type": "markdown",
   "metadata": {},
   "source": [
    "## Lagrange Modulaire"
   ]
  },
  {
   "cell_type": "code",
   "execution_count": 169,
   "metadata": {},
   "outputs": [
    {
     "name": "stdout",
     "output_type": "stream",
     "text": [
      "[1, 4]\n"
     ]
    }
   ],
   "source": [
    "def lagrange_mod(points, mod):\n",
    "    li = [0]\n",
    "    res = [1] \n",
    "    for l in points:\n",
    "        term = [1]\n",
    "        factor = []\n",
    "        for t in points:\n",
    "            if l[0] != t[0]:\n",
    "                num = -t[0]\n",
    "                denum = (l[0] - t[0])\n",
    "                x = poly_div_mod(num ,denum, mod)\n",
    "                y = poly_div_mod(1, denum, mod)\n",
    "                factor = [x, y]\n",
    "                term = poly_mul_mod(term, factor, mod)\n",
    "        res = poly_mul_mod([l[1]], term, mod)\n",
    "        li = poly_add_mod(res, li, mod)\n",
    "        li = remove_zero(li)\n",
    "    return li\n",
    "\n",
    "points = [ [0,1] , [1,5] ]\n",
    "mod = 13\n",
    "coeff_lagrange = lagrange_mod(points, mod)\n",
    "print(coeff_lagrange)"
   ]
  },
  {
   "cell_type": "markdown",
   "metadata": {},
   "source": [
    "## Reed Solomon"
   ]
  },
  {
   "cell_type": "code",
   "execution_count": 170,
   "metadata": {},
   "outputs": [
    {
     "name": "stdout",
     "output_type": "stream",
     "text": [
      "[104, 14, 235, 90, 29, 207, 88, 204, 225, 252, 55, 91, 236, 209, 239, 204, 67, 224, 147, 138, 164, 57, 176, 39, 75, 191, 233, 144, 34, 37, 107, 59, 8, 187, 19, 136, 182, 249, 233, 137, 30, 12, 203]\n",
      "https://www.youtube.com/watch?v=T8XeDvKqI4E\n"
     ]
    }
   ],
   "source": [
    "def reedsolomon_code(points, coeff_lagrange, n, mod):\n",
    "    nb_points = len(points)\n",
    "    for i in range(n):\n",
    "        x = nb_points + i\n",
    "        y = eval_pol_mod(coeff_lagrange, x, mod)\n",
    "        points.append([x, y])\n",
    "    return points\n",
    "\n",
    "n = 20 #n/2 = nombre d'erruer max corrigeable\n",
    "message = reedsolomon_code(points, coeff_lagrange, n, mod)\n",
    "\n",
    "def factorial(x):\n",
    "    factorial = 1\n",
    "    for i in range(x):\n",
    "        factorial *= i + 1\n",
    "    return factorial\n",
    "\n",
    "def max_steps(nb_points, n):\n",
    "    num = factorial(nb_points)\n",
    "    denum = factorial(nb_points-n) * factorial(nb_points - (nb_points-n))\n",
    "    return num / denum\n",
    "\n",
    "import itertools as it\n",
    "from collections import Counter\n",
    "\n",
    "def format_list(lst):\n",
    "    list_of_lists = [[index, value] for index, value in enumerate(lst)]\n",
    "    return list_of_lists\n",
    "\n",
    "def unformat_list(lst_of_lists):\n",
    "    values = [item[1] for item in lst_of_lists]\n",
    "    return values\n",
    "\n",
    "def reedsolomon_decode(points, n, mod):\n",
    "    nb_points = len(points)\n",
    "    min_points = nb_points - (n // 2)\n",
    "    print(min_points)\n",
    "    subpol = it.combinations(points, min_points - 1)\n",
    "    tabpoly = []\n",
    "\n",
    "    for p in subpol:\n",
    "        tabpoly.append(lagrange_mod(p, mod))\n",
    "    counter = Counter([tuple(sublist) for sublist in tabpoly])\n",
    "    most_common = counter.most_common(1)[0][0]\n",
    "    return most_common\n",
    "\n",
    "def create_invalid_combinations(invalid, n, valid, mod, message):\n",
    "    invalid_comb = it.combinations(invalid, 2)  # Générer des paires de points invalides\n",
    "\n",
    "    poly = []\n",
    "    count_corrects_points = 0\n",
    "    valid_y = [] # contient le code corrigé\n",
    "\n",
    "    for couple in invalid_comb:\n",
    "        valid.append(couple[0])\n",
    "        valid.append(couple[1])\n",
    "\n",
    "        poly = lagrange_mod(valid, mod)\n",
    "        print(poly)\n",
    "        is_valid = 1\n",
    "        nb_points = 0\n",
    "\n",
    "        for i in range(len(message)):\n",
    "            res = eval_pol_mod(poly, i, mod)\n",
    "            valid_y.append(res)\n",
    "            if (res != message[i][1]):\n",
    "                is_valid = 0\n",
    "                continue\n",
    "            nb_points = nb_points + 1\n",
    "\n",
    "        if (nb_points == len(valid) + n//2):\n",
    "            return valid_y\n",
    "\n",
    "        if (is_valid == 1):\n",
    "            count_corrects_points = count_corrects_points + 1\n",
    "        \n",
    "        valid.pop()\n",
    "        valid.pop()\n",
    "\n",
    "\n",
    "    return None  # Si aucun polynôme valide n'est trouvé\n",
    "\n",
    "\n",
    "import random\n",
    "\n",
    "\n",
    "def insert_errors(message, n):\n",
    "    list_y = []\n",
    "    for y in range(len(message)):\n",
    "        list_y.append(message[y][1])\n",
    "\n",
    "    for i in range(n//2):\n",
    "        idx = random.randint(0, len(points)-1)\n",
    "        max_rand = max(list_y) - min(list_y)\n",
    "        message[idx][1] = random.randint(0, max_rand)\n",
    "    return message\n",
    "\n",
    "#message = insert_errors(message, n)\n",
    "#errors = reedsolomon_decode(message, n, mod)\n",
    "#print(errors)\n",
    "# Message avec des erreurs\n",
    "message = [104, 116, 116, 112, 115, 58, 47, 47, 119, 119, 119, 46, 121, 111, 117, 116, 117, 98, 101, 46, 99, 111, 109, 47, 191, 97, 194, 180, 188, 63, 208, 61, 180, 56, 88, 101, 176, 118, 189, 230, 73, 175, 69, 12, 56, 77, 140, 203, 137, 15, 82, 168, 96, 41, 199, 178, 35, 58, 131, 248, 195, 162, 174]\n",
    "# Fais les paires indices valeurs avec messages en tant que y et x c'est les indices\n",
    "message = format_list(message)\n",
    "# Va de 0 a 20 et de 43 a la fin (indices)\n",
    "valid = message[:21] + message[43:]\n",
    "# Va de 21 a 42 (indices)\n",
    "invalid = message[21:43]\n",
    "# Nombre de point ajouté (utilisé n//2 pour le nombre d'erreur)\n",
    "n = 20\n",
    "# Modulo donner par l'enoncé\n",
    "mod = 257\n",
    "# Créer les combinaisons d'invalides\n",
    "corrected_code = create_invalid_combinations(invalid, n, valid, mod, message)\n",
    "s = ''.join(chr(k) for k in corrected_code[:len(valid)])\n",
    "print(s)\n",
    "\n",
    "\n"
   ]
  }
 ],
 "metadata": {
  "kernelspec": {
   "display_name": "Python 3 (ipykernel)",
   "language": "python",
   "name": "python3"
  },
  "language_info": {
   "codemirror_mode": {
    "name": "ipython",
    "version": 3
   },
   "file_extension": ".py",
   "mimetype": "text/x-python",
   "name": "python",
   "nbconvert_exporter": "python",
   "pygments_lexer": "ipython3",
   "version": "3.11.0"
  }
 },
 "nbformat": 4,
 "nbformat_minor": 2
}
